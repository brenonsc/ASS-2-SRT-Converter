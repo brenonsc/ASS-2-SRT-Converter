{
  "nbformat": 4,
  "nbformat_minor": 0,
  "metadata": {
    "colab": {
      "provenance": []
    },
    "kernelspec": {
      "name": "python3",
      "display_name": "Python 3"
    },
    "language_info": {
      "name": "python"
    }
  },
  "cells": [
    {
      "cell_type": "code",
      "source": [
        "!pip install pysubs2"
      ],
      "metadata": {
        "id": "_6ko9gUphOjP"
      },
      "execution_count": null,
      "outputs": []
    },
    {
      "cell_type": "code",
      "execution_count": null,
      "metadata": {
        "id": "Fnu2906zdt3I"
      },
      "outputs": [],
      "source": [
        "import pysubs2"
      ]
    },
    {
      "cell_type": "code",
      "source": [
        "def convert_ass_to_srt(input_file, output_file):\n",
        "    \"\"\"\n",
        "    Converts an ASS subtitle file to SRT format.\n",
        "\n",
        "    :param input_file: Path to the input .ass file\n",
        "    :param output_file: Path to save the converted .srt file\n",
        "    \"\"\"\n",
        "    try:\n",
        "        # Load the ASS file\n",
        "        subs = pysubs2.load(input_file, encoding=\"utf-8\")\n",
        "\n",
        "        # Save it as SRT\n",
        "        subs.save(output_file, format=\"srt\")\n",
        "        print(f\"Conversion successful! File saved as: {output_file}\")\n",
        "\n",
        "    except Exception as e:\n",
        "        print(f\"An error occurred during conversion: {e}\")"
      ],
      "metadata": {
        "id": "LeQaUcZ6gtCG"
      },
      "execution_count": null,
      "outputs": []
    },
    {
      "cell_type": "code",
      "source": [
        "input_ass_file = \"subtitle.ass\"  # Replace with your .ass file path\n",
        "output_srt_file = \"subtitle.srt\"  # Replace with desired .srt file path\n",
        "convert_ass_to_srt(input_ass_file, output_srt_file)"
      ],
      "metadata": {
        "id": "hxAqvYf-gx1q"
      },
      "execution_count": null,
      "outputs": []
    }
  ]
}